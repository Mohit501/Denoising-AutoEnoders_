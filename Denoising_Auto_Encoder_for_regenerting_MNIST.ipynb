{
  "nbformat": 4,
  "nbformat_minor": 0,
  "metadata": {
    "colab": {
      "name": "Denoising Auto Encoder for regenerting MNIST",
      "private_outputs": true,
      "provenance": [],
      "authorship_tag": "ABX9TyNDnziRu3Ig7zff1YF+3W2V",
      "include_colab_link": true
    },
    "kernelspec": {
      "name": "python3",
      "display_name": "Python 3"
    },
    "accelerator": "GPU"
  },
  "cells": [
    {
      "cell_type": "markdown",
      "metadata": {
        "id": "view-in-github",
        "colab_type": "text"
      },
      "source": [
        "<a href=\"https://colab.research.google.com/github/Mohit501/Denoising-AutoEnoders_/blob/main/Denoising_Auto_Encoder_for_regenerting_MNIST.ipynb\" target=\"_parent\"><img src=\"https://colab.research.google.com/assets/colab-badge.svg\" alt=\"Open In Colab\"/></a>"
      ]
    },
    {
      "cell_type": "markdown",
      "metadata": {
        "id": "1h59wAeuliei"
      },
      "source": [
        "# Importing Required Libraries"
      ]
    },
    {
      "cell_type": "code",
      "metadata": {
        "id": "Z4Oz7VyXlWvY"
      },
      "source": [
        "import numpy as np\r\n",
        "import matplotlib.pyplot as plt\r\n",
        "from tensorflow import keras\r\n",
        "from keras.layers import Dense,Input,Flatten,Conv2D,Conv2DTranspose,Reshape\r\n",
        "from keras.models import Model\r\n",
        "from keras import backend as K\r\n",
        "from keras.datasets import mnist\r\n",
        "from PIL import Image"
      ],
      "execution_count": null,
      "outputs": []
    },
    {
      "cell_type": "markdown",
      "metadata": {
        "id": "QpaowSkzLERX"
      },
      "source": [
        "## Loading Images"
      ]
    },
    {
      "cell_type": "code",
      "metadata": {
        "id": "AjGKmC8hmQ7X"
      },
      "source": [
        "(x_train,_),(x_test,_) = mnist.load_data()"
      ],
      "execution_count": null,
      "outputs": []
    },
    {
      "cell_type": "markdown",
      "metadata": {
        "id": "Uf9f_UczLL8g"
      },
      "source": [
        "## PreProcessing and Normalizing"
      ]
    },
    {
      "cell_type": "code",
      "metadata": {
        "id": "RKJ6Rkuumr_j"
      },
      "source": [
        "image_size = x_train.shape[1]\r\n",
        "x_train = np.reshape(x_train, [-1, image_size, image_size, 1])\r\n",
        "x_test = np.reshape(x_test, [-1, image_size, image_size, 1])\r\n",
        "x_train = x_train.astype('float32') / 255\r\n",
        "x_test = x_test.astype('float32') / 255"
      ],
      "execution_count": null,
      "outputs": []
    },
    {
      "cell_type": "markdown",
      "metadata": {
        "id": "ctTzkJMkLTUq"
      },
      "source": [
        "Adding Noise to images"
      ]
    },
    {
      "cell_type": "code",
      "metadata": {
        "id": "4Gq6hpNAnGMc"
      },
      "source": [
        "noise = np.random.normal(loc=0.5, scale=0.5, size=x_train.shape)\r\n",
        "x_train_noisy = x_train + noise\r\n",
        "noise = np.random.normal(loc=0.5, scale=0.5, size=x_test.shape)\r\n",
        "x_test_noisy = x_test + noise\r\n",
        "x_train_noisy = np.clip(x_train_noisy, 0., 1.)\r\n",
        "x_test_noisy = np.clip(x_test_noisy, 0., 1.)"
      ],
      "execution_count": null,
      "outputs": []
    },
    {
      "cell_type": "code",
      "metadata": {
        "id": "jW9li_3Onm13"
      },
      "source": [
        "layer_filters = [32,64]\r\n",
        "input_shape = (image_size, image_size, 1)\r\n",
        "batch_size = 32\r\n",
        "kernel_size = 3\r\n",
        "latent_dim = 16"
      ],
      "execution_count": null,
      "outputs": []
    },
    {
      "cell_type": "markdown",
      "metadata": {
        "id": "dFibE-kQLlk2"
      },
      "source": [
        "## Building The AutoEncoder"
      ]
    },
    {
      "cell_type": "markdown",
      "metadata": {
        "id": "YV-gUPnwL3H1"
      },
      "source": [
        "1.Encoder"
      ]
    },
    {
      "cell_type": "code",
      "metadata": {
        "id": "kUTpRHR2oRQC"
      },
      "source": [
        "inputs = Input(shape=input_shape, name='encoder_input')\r\n",
        "x = inputs\r\n",
        "\r\n",
        "for filters in layer_filters:\r\n",
        "    x = Conv2D(filters=filters,\r\n",
        "               kernel_size=kernel_size,\r\n",
        "               strides=2,\r\n",
        "               activation='relu',\r\n",
        "               padding='same')(x)\r\n",
        "\r\n",
        "\r\n",
        "shape = K.int_shape(x)\r\n",
        "x = Flatten()(x)\r\n",
        "latent = Dense(latent_dim, name='latent_vector')(x)\r\n",
        "encoder = Model(inputs, latent, name='encoder')\r\n",
        "encoder.summary()"
      ],
      "execution_count": null,
      "outputs": []
    },
    {
      "cell_type": "markdown",
      "metadata": {
        "id": "2SQSHPlnN-Yr"
      },
      "source": [
        "2.Decoder"
      ]
    },
    {
      "cell_type": "code",
      "metadata": {
        "id": "0cJ8PF1iNPc5"
      },
      "source": [
        "latent_inputs = Input(shape=(latent_dim,), name='decoder_input')\r\n",
        "x = Dense(shape[1] * shape[2] * shape[3])(latent_inputs)\r\n",
        "x = Reshape((shape[1], shape[2], shape[3]))(x)\r\n",
        "\r\n",
        "\r\n",
        "for filters in layer_filters[::-1]:\r\n",
        "    x = Conv2DTranspose(filters=filters,\r\n",
        "                        kernel_size=kernel_size,\r\n",
        "                        strides=2,\r\n",
        "                        activation='relu',\r\n",
        "                        padding='same')(x)\r\n",
        "\r\n",
        "\r\n",
        "outputs = Conv2DTranspose(filters=1,\r\n",
        "                          kernel_size=kernel_size,\r\n",
        "                          padding='same',\r\n",
        "                          activation='sigmoid',\r\n",
        "                          name='decoder_output')(x)\r\n",
        "\r\n",
        "decoder = Model(latent_inputs, outputs, name='decoder')\r\n",
        "decoder.summary()"
      ],
      "execution_count": null,
      "outputs": []
    },
    {
      "cell_type": "markdown",
      "metadata": {
        "id": "oOOlc5l_PjUZ"
      },
      "source": [
        " **AutoEncoder = Encoder + Decoder** "
      ]
    },
    {
      "cell_type": "code",
      "metadata": {
        "id": "QmuyLW2NOoj3"
      },
      "source": [
        "autoencoder = Model(inputs,decoder(encoder(inputs)),name = 'autoencoder')\r\n",
        "autoencoder.summary()"
      ],
      "execution_count": null,
      "outputs": []
    },
    {
      "cell_type": "code",
      "metadata": {
        "id": "plsbfx6GP7ct"
      },
      "source": [
        "autoencoder.compile(loss = 'categorical_crossentropy',optimizer = 'rmsprop')\r\n"
      ],
      "execution_count": null,
      "outputs": []
    },
    {
      "cell_type": "code",
      "metadata": {
        "id": "jKk-KgDgRcV-"
      },
      "source": [
        "print(x_train_noise.shape)\r\n",
        "print(x_train.shape)"
      ],
      "execution_count": null,
      "outputs": []
    },
    {
      "cell_type": "code",
      "metadata": {
        "id": "sGl3XfWJQJZY"
      },
      "source": [
        "autoencoder.fit(x_train_noise,x_train,epochs=10,batch_size=100)"
      ],
      "execution_count": null,
      "outputs": []
    },
    {
      "cell_type": "code",
      "metadata": {
        "id": "Wk5dLpH3SAM5"
      },
      "source": [
        "x_decoded = autoencoder.predict(x_test_noisy)"
      ],
      "execution_count": null,
      "outputs": []
    },
    {
      "cell_type": "code",
      "metadata": {
        "id": "NmFKcdcfTct1"
      },
      "source": [
        "rows, cols = 3, 9\r\n",
        "num = rows * cols\r\n",
        "imgs = np.concatenate([x_test[:num], x_test_noisy[:num], x_decoded[:num]])\r\n",
        "imgs = imgs.reshape((rows * 3, cols, image_size, image_size))\r\n",
        "imgs = np.vstack(np.split(imgs, rows, axis=1))\r\n",
        "imgs = imgs.reshape((rows * 3, -1, image_size, image_size))\r\n",
        "imgs = np.vstack([np.hstack(i) for i in imgs])\r\n",
        "imgs = (imgs * 255).astype(np.uint8)\r\n",
        "plt.figure(figsize=(25,10))\r\n",
        "plt.axis('off')\r\n",
        "plt.title('Original images: top rows, '\r\n",
        "          'Corrupted Input: middle rows, '\r\n",
        "          'Denoised Input:  third rows')\r\n",
        "plt.imshow(imgs, interpolation='none', cmap='gray')\r\n",
        "plt.show()"
      ],
      "execution_count": null,
      "outputs": []
    },
    {
      "cell_type": "code",
      "metadata": {
        "id": "QJ_Ypt3WVJDd"
      },
      "source": [
        ""
      ],
      "execution_count": null,
      "outputs": []
    }
  ]
}